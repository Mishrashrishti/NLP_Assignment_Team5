{
 "cells": [
  {
   "cell_type": "markdown",
   "metadata": {
    "id": "NeY-N957PlTn"
   },
   "source": [
    "## Creating a dataset of certain size from the scraped files "
   ]
  },
  {
   "cell_type": "markdown",
   "metadata": {
    "id": "2hdBgH8WP1dh"
   },
   "source": [
    "Selecting 150 MB of data , change the size in order to generate csv of different sizes"
   ]
  },
  {
   "cell_type": "code",
   "execution_count": null,
   "metadata": {
    "id": "eQcS9YBbPlTq"
   },
   "outputs": [],
   "source": [
    "import os\n",
    "import csv\n",
    "import random\n",
    "import re\n",
    "import pandas as pd\n",
    "\n",
    "# Specify the path to your main data directory\n",
    "data_dir = \"/Users/heerkubadia/Desktop/Sem - 5/Natural Language Processing/FINAL_PROCESSED\"\n",
    "\n",
    "# Specify the path for the output CSV file\n",
    "output_csv = \"/Users/heerkubadia/Desktop/Sem - 5/Natural Language Processing/tokenizer.csv\"\n",
    "\n",
    "target_size = 150 * 1024 * 1024  # 150 MB in bytes\n",
    "current_size = 0\n",
    "serial_number = 1\n",
    "data = []\n",
    "\n",
    "# Collect all .txt file paths with their folder names\n",
    "all_files = []\n",
    "for source_folder in os.listdir(data_dir):\n",
    "    source_path = os.path.join(data_dir, source_folder)\n",
    "    if os.path.isdir(source_path):\n",
    "        for filename in os.listdir(source_path):\n",
    "            if filename.endswith(\".txt\"):\n",
    "                all_files.append((source_folder, os.path.join(source_path, filename)))\n",
    "\n",
    "# Shuffle file list to ensure random selection\n",
    "random.shuffle(all_files)\n",
    "\n",
    "# Iterate over the shuffled list and accumulate text data until target size is reached\n",
    "for source_folder, file_path in all_files:\n",
    "    with open(file_path, \"r\", encoding=\"utf-8\") as file:\n",
    "        text = file.readlines()\n",
    "\n",
    "        # Filter out lines with English letters, tags, or URLs\n",
    "        filtered_lines = [\n",
    "            re.sub(r'[A-Za-z]', '', line).strip()  # Remove English letters, preserve Malayalam\n",
    "            for line in text\n",
    "            if not re.search(r\"</?doc>|https?://|<[^>]+>\", line)  # Skip lines with tags or URLs\n",
    "        ]\n",
    "\n",
    "        # Join the filtered lines back into a single string\n",
    "        filtered_text = \"\\n\".join(filtered_lines)\n",
    "        file_size = len(filtered_text.encode(\"utf-8\"))  # Calculate size in bytes of filtered text\n",
    "\n",
    "        # Check if adding this file would exceed the target size\n",
    "        if current_size + file_size > target_size:\n",
    "            break\n",
    "\n",
    "        # Add file data to the list and update the size\n",
    "        source_name = f\"{source_folder}/{os.path.basename(file_path)}\"  # folder and filename as source\n",
    "        data.append([serial_number, source_name, filtered_text])\n",
    "        current_size += file_size\n",
    "        serial_number += 1\n",
    "\n",
    "# Convert to a DataFrame\n",
    "df = pd.DataFrame(data, columns=[\"Serial Number\", \"Source Name\", \"Text\"])\n",
    "\n",
    "# Clean the 'Text' column by removing excessive newlines and stripping extra moses\n",
    "df['Text'] = df['Text'].replace(r'\\n+', '\\n', regex=True)  # Replace multiple newlines with a single newline\n",
    "df['Text'] = df['Text'].str.strip()  # Remove leading and trailing moses\n",
    "\n",
    "# Print the cleaned DataFrame\n",
    "print(df)\n",
    "\n",
    "# Write the cleaned data to a CSV file\n",
    "df.to_csv(output_csv, index=False, encoding=\"utf-8\")\n",
    "\n",
    "print(f\"Cleaned CSV file created at {output_csv} with ~200 MB of data.\")\n"
   ]
  },
  {
   "cell_type": "markdown",
   "metadata": {
    "id": "9B8fVzWuPlTs"
   },
   "source": [
    "Removing the rows without malayalam content"
   ]
  },
  {
   "cell_type": "code",
   "execution_count": null,
   "metadata": {
    "id": "5cIP2J3tPlTs"
   },
   "outputs": [],
   "source": [
    "import re\n",
    "\n",
    "# Regular expression to detect Malayalam characters\n",
    "malayalam_regex = '[\\u0D00-\\u0D7F]'\n",
    "\n",
    "# Filter out rows that don't contain Malayalam text\n",
    "df = df[df['Text'].str.contains(malayalam_regex, regex=True, na=False)]\n",
    "\n",
    "\n"
   ]
  },
  {
   "cell_type": "code",
   "execution_count": null,
   "metadata": {
    "id": "7svddPx6PlTt"
   },
   "outputs": [],
   "source": [
    "# Reset the index and assign new serial numbers\n",
    "df.reset_index(drop=True, inplace=True)\n",
    "df['Serial Number'] = df.index + 1  # Start serial numbering from 1\n",
    "\n"
   ]
  },
  {
   "cell_type": "code",
   "execution_count": null,
   "metadata": {
    "id": "-O421W2APlTt"
   },
   "outputs": [],
   "source": [
    "\n",
    "\n",
    "# Save the updated DataFrame to a CSV file (you can choose your desired output path)\n",
    "df.to_csv(output_csv, index=False, encoding=\"utf-8\")\n",
    "\n",
    "print(f\"Updated CSV file with new serial numbering saved at {output_csv}.\")\n"
   ]
  },
  {
   "cell_type": "markdown",
   "metadata": {
    "id": "CyNXqAV7PlTt"
   },
   "source": [
    "Checking the size of csv"
   ]
  },
  {
   "cell_type": "code",
   "execution_count": null,
   "metadata": {
    "id": "NmSbXKbLPlTu"
   },
   "outputs": [],
   "source": [
    "import os\n",
    "\n",
    "# Path to the CSV file\n",
    "csv_file_path = \"/Users/heerkubadia/Desktop/Sem - 5/Natural Language Processing/tokenizer.csv\"\n",
    "\n",
    "# Get the file size in bytes\n",
    "file_size = os.path.getsize(csv_file_path)\n",
    "\n",
    "# Convert to MB\n",
    "file_size_mb = file_size / (1024 * 1024)\n",
    "\n",
    "print(f\"CSV file size: {file_size_mb:.2f} MB\")\n"
   ]
  },
  {
   "cell_type": "markdown",
   "metadata": {
    "id": "OO9AwMpYPlTu"
   },
   "source": [
    " Display of the final csv"
   ]
  },
  {
   "cell_type": "code",
   "execution_count": null,
   "metadata": {
    "id": "OgpgoD0-PlTv"
   },
   "outputs": [],
   "source": [
    "pd.set_option('display.max_colwidth', None)"
   ]
  },
  {
   "cell_type": "code",
   "execution_count": null,
   "metadata": {
    "id": "zwzFLaMzPlTv"
   },
   "outputs": [],
   "source": [
    "df.head()"
   ]
  },
  {
   "cell_type": "markdown",
   "metadata": {
    "id": "NY_QNmVAPlTv"
   },
   "source": [
    "## Training Tokenizers"
   ]
  },
  {
   "cell_type": "code",
   "execution_count": null,
   "metadata": {
    "id": "CAw0hhSxQRG4"
   },
   "outputs": [],
   "source": [
    "import pandas as pd\n",
    "pd.reset_option('display.max_colwidth')"
   ]
  },
  {
   "cell_type": "code",
   "execution_count": null,
   "metadata": {
    "colab": {
     "base_uri": "https://localhost:8080/"
    },
    "id": "f2R_16rRPlTv",
    "outputId": "cbb46c07-5443-4662-a102-e54c336423d1"
   },
   "outputs": [],
   "source": [
    "%pip install transformers"
   ]
  },
  {
   "cell_type": "code",
   "execution_count": null,
   "metadata": {
    "colab": {
     "base_uri": "https://localhost:8080/"
    },
    "id": "rvXZAgOzPlTv",
    "outputId": "6057d315-bf29-42e7-f543-4843667c16ba"
   },
   "outputs": [],
   "source": [
    "%pip install tokenizers"
   ]
  },
  {
   "cell_type": "code",
   "execution_count": null,
   "metadata": {
    "id": "wWAdRvVWPlTv"
   },
   "outputs": [],
   "source": [
    "import os\n",
    "from tqdm import tqdm\n",
    "import time\n",
    "from tokenizers import SentencePieceBPETokenizer\n",
    "from transformers import PreTrainedTokenizerFast\n",
    "import argparse\n",
    "import datetime\n",
    "import pandas as pd"
   ]
  },
  {
   "cell_type": "code",
   "execution_count": null,
   "metadata": {
    "colab": {
     "base_uri": "https://localhost:8080/"
    },
    "id": "jMmFIE1WPlTw",
    "outputId": "b37ee505-3860-4ec5-c140-016ecd918a60"
   },
   "outputs": [],
   "source": [
    "date = datetime.datetime.now().strftime(\"%Y-%m-%d\")\n",
    "print(\"Date:\", date)"
   ]
  },
  {
   "cell_type": "code",
   "execution_count": null,
   "metadata": {
    "id": "B_GIcgKrPlTw"
   },
   "outputs": [],
   "source": [
    "vocab_size = 16000  # Vocabulary size for tokenizer\n",
    "data_path = \"/Users/heerkubadia/Desktop/Sem - 5/Natural Language Processing/tokenizer_150.csv\"  \n",
    "# data_path = \"/content/tokenizer_300.csv\"\n",
    "# data_path = \"/content/tokenizer_500.csv\"\n",
    "\n",
    "save_path_bpe = \"/Users/heerkubadia/Desktop/Sem - 5/Natural Language Processing/malayalam_tokenizer_v1\"\n",
    "save_path_unigram = \"/Users/heerkubadia/Desktop/Sem - 5/Natural Language Processing/malayalam_tokenizer_v2\"\n",
    "save_path_moses = \"/Users/heerkubadia/Desktop/Sem - 5/Natural Language Processing/malayalam_tokenizer_v3\"\n",
    "save_path_wordpiece = \"/Users/heerkubadia/Desktop/Sem - 5/Natural Language Processing/malayalam_tokenizer_v4\"\n",
    "save_path_blbpe = \"/Users/heerkubadia/Desktop/Sem - 5/Natural Language Processing/malayalam_tokenizer_v5\"\n",
    "\n"
   ]
  },
  {
   "cell_type": "code",
   "execution_count": null,
   "metadata": {
    "id": "PekoXfwYPlTw"
   },
   "outputs": [],
   "source": [
    "bos_tok = \"<bos>\"\n",
    "eos_tok = \"<eos>\"\n",
    "extra_char = [\"0\", \"1\", \"2\", \"3\", \"4\", \"5\", \"6\", \"7\", \"8\", \"9\"]\n"
   ]
  },
  {
   "cell_type": "markdown",
   "metadata": {
    "id": "evRnKGt4PlTw"
   },
   "source": [
    "Training the tokenizer - BPE"
   ]
  },
  {
   "cell_type": "code",
   "execution_count": null,
   "metadata": {
    "colab": {
     "base_uri": "https://localhost:8080/"
    },
    "id": "wi1mO9O9PlTw",
    "outputId": "e79bb300-7b82-4201-f079-f42a32aa78ac"
   },
   "outputs": [],
   "source": [
    "import time\n",
    "import pandas as pd\n",
    "from tokenizers import SentencePieceBPETokenizer\n",
    "from transformers import PreTrainedTokenizerFast\n",
    "from tokenizers import SentencePieceBPETokenizer, normalizers, decoders\n",
    "\n",
    "def train_tokenizer(data_path = data_path, vocab_size= vocab_size, model_name=\"./malayalam_tokenizer_v1\"):\n",
    "    st = time.time()\n",
    "    print(f'Vocabulary size: {vocab_size}')\n",
    "    print(f\"Model save path: {model_name}\")\n",
    "\n",
    "    tokenizer = SentencePieceBPETokenizer()\n",
    "\n",
    "    # Reading the CSV file (assuming one CSV file)\n",
    "    df = pd.read_csv(data_path, encoding=\"utf-8\", on_bad_lines='skip')\n",
    "    print(f\"No. of files: {len(df)}\")\n",
    "    text_column = df.iloc[:, 2]  # Accessing the third column which has the text\n",
    "    special_tokens=[\"<pad>\", \"<cls>\", \"<sep>\", \"<mask>\", \"<unk>\", \"<bos>\", \"<eos>\", \"<user>\", \"<assistant>\"]\n",
    "\n",
    "    # Remove digits or perform other preprocessing\n",
    "    text_column = text_column.str.replace(r'\\d+', '', regex=True)\n",
    "    text_column = text_column.apply(lambda x: f\"{special_tokens[0]} {x} {special_tokens[1]}\")  # Adding <bos> at the start and <eos> at the end of each sentence\n",
    "\n",
    "    try:\n",
    "        tokenizer.train_from_iterator(\n",
    "            text_column,  # Pass the text column to train the tokenizer\n",
    "            vocab_size=vocab_size,\n",
    "            min_frequency=5,\n",
    "            special_tokens=[\"<pad>\", \"<cls>\", \"<sep>\", \"<mask>\", \"<unk>\", \"<bos>\", \"<eos>\", \"<user>\", \"<assistant>\"],\n",
    "            show_progress=True,\n",
    "        )\n",
    "    except Exception as e:\n",
    "        print(\"Error in training tokenizer:\", e)\n",
    "        print(f\"Training interrupted after {(time.time() - st) / 60:.2f} minutes\")\n",
    "\n",
    "    print(f\"Completed tokenizer training.\")\n",
    "\n",
    "    et = time.time()\n",
    "    print(f\"Training completed in {(et - st) / 60:.2f} minutes\")\n",
    "\n",
    "    # Setup transformer-compatible tokenizer after the training is completed\n",
    "    transformer_tokenizer = PreTrainedTokenizerFast(\n",
    "        tokenizer_object=tokenizer,\n",
    "        bos_token=\"<bos>\",\n",
    "        eos_token=\"<eos>\",\n",
    "        unk_token=\"<unk>\",\n",
    "        pad_token=\"<pad>\",\n",
    "        mask_token=\"<mask>\",\n",
    "        additional_special_tokens=[\"<user>\", \"<assistant>\"],\n",
    "    )\n",
    "    transformer_tokenizer.backend_tokenizer.normalizer = normalizers.Replace(' ', '▁')\n",
    "    transformer_tokenizer.backend_tokenizer.pre_tokenizer = None\n",
    "    transformer_tokenizer.backend_tokenizer.decoder = decoders.Replace('▁', ' ')\n",
    "\n",
    "    # Save the transformer-compatible tokenizer\n",
    "    transformer_tokenizer.save_pretrained(model_name)\n",
    "    print(f\"Saved tokenizer to {model_name}\")\n",
    "\n",
    "# Call the function to train the tokenizer\n",
    "train_tokenizer(data_path = data_path, vocab_size = vocab_size, model_name=save_path_bpe)\n"
   ]
  },
  {
   "cell_type": "markdown",
   "metadata": {
    "id": "seBI5lSRWx88"
   },
   "source": [
    "Training the tokenizer - Unigram"
   ]
  },
  {
   "cell_type": "code",
   "execution_count": null,
   "metadata": {
    "id": "Eqt5dHtHW2LN"
   },
   "outputs": [],
   "source": [
    "import os\n",
    "import time\n",
    "import pandas as pd\n",
    "from tokenizers import Tokenizer, normalizers, decoders,trainers\n",
    "from tokenizers.models import Unigram\n",
    "from tokenizers.pre_tokenizers import Whitespace\n",
    "from transformers import PreTrainedTokenizerFast\n",
    "\n",
    "# Read the CSV file with UTF-8 encoding\n",
    "df = pd.read_csv(data_path, encoding='utf-8')\n",
    "\n",
    "# Ensure correct column indexing\n",
    "print(df.head())  # Optionally print the first few rows to confirm the content\n",
    "\n",
    "# Special tokens\n",
    "bos_tok = \"<bos>\"\n",
    "eos_tok = \"<eos>\"\n",
    "extra_char = [\"0\", \"1\", \"2\", \"3\", \"4\", \"5\", \"6\", \"7\", \"8\", \"9\", \"#\", \"##\", \"###\", \"౦\", \"౧\", \"౨\", \"౩\", \"౪\", \"౫\", \"౬\", \"౭\", \"౮\", \"౯\"]\n",
    "\n",
    "# Step 1: Train Unigram Tokenizer\n",
    "def train_tokenizer(df, vocab_size= vocab_size, model_name= \"./malayalam_tokenizer_v2\"):\n",
    "    st = time.time()\n",
    "    print(f'Vocab size: {vocab_size}')\n",
    "    print(f\"Model name : {model_name}\")\n",
    "\n",
    "    # Initialize Unigram model\n",
    "    unigram_model = Unigram()\n",
    "\n",
    "    unigram_tokenizer = Tokenizer(unigram_model)\n",
    "    unigram_tokenizer.pre_tokenizer = Whitespace()\n",
    "    trainer = trainers.UnigramTrainer(\n",
    "        vocab_size=vocab_size,\n",
    "        special_tokens=[\"<pad>\", \"<cls>\", \"<sep>\", eos_tok, \"<mask>\", \"<unk>\", bos_tok, \"<user>\", \"<assistant>\"] + extra_char,\n",
    "        unk_token=\"<unk>\",\n",
    "        min_frequency=5,\n",
    "    )\n",
    "    # Fetch text data from the 3rd column (index 2)\n",
    "    df_text = df.iloc[:, 2].dropna()  # Change to column index 2 for the third column\n",
    "    df_text = df_text.str.replace(r'\\d+', '', regex=True)  # Remove numbers\n",
    "    text_data = df_text.tolist()  # Convert to a list of strings\n",
    "\n",
    "    print(f\"Training on {len(text_data)} entries\")  # Debugging output\n",
    "\n",
    "    try:\n",
    "        unigram_tokenizer.train_from_iterator(\n",
    "            iter(text_data),  # Ensure it's an iterator\n",
    "            trainer=trainer)\n",
    "    except Exception as e:\n",
    "        print(f\"Error in training tokenizer: {e}\")\n",
    "        print(f\"Trained for {(time.time() - st) / 60:.2f} minutes\")\n",
    "        return  # Exit the function if an error occurs\n",
    "\n",
    "    et = time.time()\n",
    "    print(f\"Trained {model_name} in {(et - st) / 60:.2f} minutes\")\n",
    "\n",
    "    # Save the tokenizer model\n",
    "    os.makedirs(model_name, exist_ok=True)  # Create the directory if it doesn't exist\n",
    "    unigram_tokenizer.save(f\"{model_name}/tokenizer.json\")\n",
    "    print(f\"Saved Unigram tokenizer to {model_name}\")\n",
    "\n",
    "    # Convert to transformers format\n",
    "    transformer_tokenizer = PreTrainedTokenizerFast(\n",
    "        tokenizer_object=unigram_tokenizer,\n",
    "        bos_token=bos_tok,\n",
    "        eos_token=eos_tok,\n",
    "        unk_token=\"<unk>\",\n",
    "        pad_token=\"<pad>\",\n",
    "        mask_token=\"<mask>\",\n",
    "        padding_side=\"left\",\n",
    "        truncation_side=\"right\",\n",
    "        additional_special_tokens=[\"<user>\", \"<assistant>\"],\n",
    "        clean_up_tokenization_spaces=False,\n",
    "    )\n",
    "\n",
    "    transformer_tokenizer.backend_tokenizer.normalizer = normalizers.Replace(' ', '▁')\n",
    "    transformer_tokenizer.backend_tokenizer.pre_tokenizer = None\n",
    "    transformer_tokenizer.backend_tokenizer.decoder = decoders.Replace('▁', ' ')\n",
    "\n",
    "    transformer_tokenizer.save_pretrained(model_name)\n",
    "    print(f\"Saved tokenizer model to {model_name} in {(time.time() - et) / 60:.2f} minutes\")\n",
    "\n",
    "# Call the function to train the tokenizer\n",
    "train_tokenizer(df, vocab_size=vocab_size, model_name= save_path_unigram)\n"
   ]
  },
  {
   "cell_type": "markdown",
   "metadata": {},
   "source": [
    "Training the tokenizer - Moses"
   ]
  },
  {
   "cell_type": "code",
   "execution_count": null,
   "metadata": {},
   "outputs": [],
   "source": [
    "import time\n",
    "import pandas as pd\n",
    "from tokenizers import SentencePieceBPETokenizer\n",
    "from transformers import PreTrainedTokenizerFast\n",
    "from sacremoses import MosesTokenizer\n",
    "\n",
    "def train_tokenizer(data_path= data_path, vocab_size=16000, model_name=\"./malayalam_tokenizer_v3\"):\n",
    "    st = time.time()\n",
    "    print(f'Vocabulary size: {vocab_size}')\n",
    "    print(f\"Model save path: {model_name}\")\n",
    "    \n",
    "    # Initialize the trainable tokenizer\n",
    "    tokenizer = SentencePieceBPETokenizer()\n",
    "    \n",
    "    # Reading the CSV file\n",
    "    df = pd.read_csv(data_path)\n",
    "    print(f\"No. of files: {len(df)}\")\n",
    "    text_column = df.iloc[:, 2]  # Accessing the third column which has the text\n",
    "    special_tokens = [\"<pad>\", \"<cls>\", \"<sep>\", \"<mask>\", \"<unk>\", \"<bos>\", \"<eos>\", \"<user>\", \"<assistant>\"]\n",
    "           \n",
    "    # Preprocess with MosesTokenizer (optional)\n",
    "    moses_tokenizer = MosesTokenizer(lang=\"ml\")  # Set language code as \"ml\" for Malayalam\n",
    "    text_column = text_column.str.replace(r'\\d+', '', regex=True)  # Remove digits\n",
    "    text_column = text_column.apply(lambda x: \" \".join(moses_tokenizer.tokenize(x)))  # Apply Moses Tokenizer\n",
    "\n",
    "    # Add special tokens\n",
    "    text_column = text_column.apply(lambda x: f\"{special_tokens[5]} {x} {special_tokens[6]}\")  # Adding <bos> and <eos>\n",
    "\n",
    "    try:\n",
    "        tokenizer.train_from_iterator(\n",
    "            text_column,  # Pass the text column to train the tokenizer\n",
    "            vocab_size=vocab_size,\n",
    "            min_frequency=5,\n",
    "            special_tokens=special_tokens,\n",
    "            show_progress=True,\n",
    "        )\n",
    "    except Exception as e:\n",
    "        print(\"Error in training tokenizer:\", e)\n",
    "        print(f\"Training interrupted after {(time.time() - st) / 60:.2f} minutes\")\n",
    "        return\n",
    "\n",
    "    print(f\"Completed tokenizer training.\")\n",
    "\n",
    "    et = time.time()\n",
    "    print(f\"Training completed in {(et - st) / 60:.2f} minutes\")\n",
    "\n",
    "    # Setup transformer-compatible tokenizer after training\n",
    "    transformer_tokenizer = PreTrainedTokenizerFast(\n",
    "        tokenizer_object=tokenizer,\n",
    "        bos_token=\"<bos>\",\n",
    "        eos_token=\"<eos>\",\n",
    "        unk_token=\"<unk>\",\n",
    "        pad_token=\"<pad>\",\n",
    "        mask_token=\"<mask>\",\n",
    "        additional_special_tokens=[\"<user>\", \"<assistant>\"],\n",
    "    )\n",
    "    \n",
    "    # Save the transformer-compatible tokenizer\n",
    "    transformer_tokenizer.save_pretrained(model_name)\n",
    "    print(f\"Saved tokenizer to {model_name}\")\n",
    "\n",
    "# Call the function to train the tokenizer\n",
    "train_tokenizer(data_path=data_path, vocab_size=vocab_size, model_name=save_path_moses)"
   ]
  },
  {
   "cell_type": "markdown",
   "metadata": {
    "id": "ZNd5l8tif9Jm"
   },
   "source": [
    "Training the tokenizer - Wordpiece"
   ]
  },
  {
   "cell_type": "code",
   "execution_count": null,
   "metadata": {
    "id": "F_OkUUuSf8Is"
   },
   "outputs": [],
   "source": [
    "import os\n",
    "import time\n",
    "import pandas as pd\n",
    "from tokenizers import BertWordPieceTokenizer\n",
    "from transformers import PreTrainedTokenizerFast\n",
    "\n",
    "def train_wordpiece_tokenizer(data_path, vocab_size=16000, model_name=save_path_wordpiece):\n",
    "    st = time.time()\n",
    "    print(f\"Vocabulary size: {vocab_size}\")\n",
    "    print(f\"Model save path: {model_name}\")\n",
    "\n",
    "    tokenizer = BertWordPieceTokenizer(\n",
    "        clean_text=True,\n",
    "        handle_chinese_chars=False,\n",
    "        strip_accents=False,\n",
    "        lowercase=True,\n",
    "    )\n",
    "\n",
    "    # Reading the CSV file\n",
    "    df = pd.read_csv(data_path)\n",
    "    print(f\"No. of files: {len(df)}\")\n",
    "    text_column = df.iloc[:, 2]  # Accessing the third column which has the text\n",
    "    special_tokens = [\"[PAD]\", \"[CLS]\", \"[SEP]\", \"[MASK]\", \"[UNK]\", \"[BOS]\", \"[EOS]\", \"[USER]\", \"[ASSISTANT]\"]\n",
    "\n",
    "    # Preprocess the text\n",
    "    text_column = text_column.str.replace(r'\\d+', '', regex=True)\n",
    "    text_column = text_column.apply(lambda x: f\"{special_tokens[5]} {x} {special_tokens[6]}\")  # Adding <bos> and <eos>\n",
    "\n",
    "    try:\n",
    "        tokenizer.train_from_iterator(\n",
    "            text_column,\n",
    "            vocab_size=vocab_size,\n",
    "            min_frequency=5,\n",
    "            special_tokens=special_tokens,\n",
    "            show_progress=True,\n",
    "        )\n",
    "    except Exception as e:\n",
    "        print(\"Error in training tokenizer:\", e)\n",
    "        print(f\"Training interrupted after {(time.time() - st) / 60:.2f} minutes\")\n",
    "\n",
    "    print(\"Completed tokenizer training.\")\n",
    "\n",
    "    # Create the directory if it doesn't exist\n",
    "    os.makedirs(model_name, exist_ok=True)\n",
    "\n",
    "    # Save the tokenizer as a fast tokenizer\n",
    "    # Convert BertWordPieceTokenizer to PreTrainedTokenizerFast\n",
    "    fast_tokenizer = PreTrainedTokenizerFast(\n",
    "        tokenizer_object=tokenizer,\n",
    "        unk_token=\"[UNK]\",\n",
    "        pad_token=\"[PAD]\",\n",
    "        cls_token=\"[CLS]\",\n",
    "        sep_token=\"[SEP]\",\n",
    "        mask_token=\"[MASK]\",\n",
    "        bos_token=\"[BOS]\",\n",
    "        eos_token=\"[EOS]\"\n",
    "    )\n",
    "\n",
    "    # Save the tokenizer\n",
    "    fast_tokenizer.save_pretrained(model_name)\n",
    "    print(f\"Saved tokenizer to {model_name}\")\n",
    "\n",
    "    et = time.time()\n",
    "    print(f\"Training completed in {(et - st) / 60:.2f} minutes\")\n",
    "\n",
    "# Call the function to train the tokenizer\n",
    "train_wordpiece_tokenizer(data_path= data_path, vocab_size= vocab_size)"
   ]
  },
  {
   "cell_type": "markdown",
   "metadata": {},
   "source": [
    "Training the tokenizer - byte level bpe"
   ]
  },
  {
   "cell_type": "code",
   "execution_count": null,
   "metadata": {},
   "outputs": [],
   "source": [
    "import time\n",
    "import pandas as pd\n",
    "from tokenizers import ByteLevelBPETokenizer, normalizers, decoders, pre_tokenizers\n",
    "\n",
    "from transformers import PreTrainedTokenizerFast\n",
    "\n",
    "def train_tokenizer(data_path, vocab_size, model_name=\"./malayalam_tokenizer_v5\"):\n",
    "    st = time.time()\n",
    "    print(f'Vocabulary size: {vocab_size}')\n",
    "    print(f\"Model save path: {model_name}\")\n",
    "\n",
    "    # Initialize the ByteLevelBPETokenizer\n",
    "    tokenizer = ByteLevelBPETokenizer()\n",
    "\n",
    "    # Setup normalizer to replace spaces with '▁' (common in byte-level tokenization)\n",
    "    tokenizer.normalizer = normalizers.Replace(' ', '▁')\n",
    "\n",
    "    # Setup decoder for byte-level tokens\n",
    "    tokenizer.decoder = decoders.ByteLevel()\n",
    "\n",
    "    # Setup pre-tokenizer to split input at byte-level\n",
    "    tokenizer.pre_tokenizer = pre_tokenizers.ByteLevel()\n",
    "\n",
    "\n",
    "    # Reading the CSV file (assuming one CSV file)\n",
    "    df = pd.read_csv(data_path, encoding=\"utf-8\", on_bad_lines='skip')\n",
    "    print(f\"No. of files: {len(df)}\")\n",
    "    text_column = df.iloc[:, 2]  # Accessing the third column which has the text\n",
    "    special_tokens = [\"<pad>\", \"<cls>\", \"<sep>\", \"<mask>\", \"<unk>\", \"<bos>\", \"<eos>\", \"<user>\", \"<assistant>\"]\n",
    "\n",
    "    # Remove digits or perform other preprocessing\n",
    "    text_column = text_column.str.replace(r'\\d+', '', regex=True)\n",
    "    text_column = text_column.apply(lambda x: f\"{special_tokens[0]} {x} {special_tokens[1]}\")  # Adding <bos> at the start and <eos> at the end of each sentence\n",
    "\n",
    "    # Train the ByteLevelBPETokenizer on the given data\n",
    "    try:\n",
    "        tokenizer.train_from_iterator(\n",
    "            text_column,  # Pass the text column to train the tokenizer\n",
    "            vocab_size=vocab_size,\n",
    "            min_frequency=5,\n",
    "            special_tokens=special_tokens,\n",
    "            show_progress=True,\n",
    "        )\n",
    "    except Exception as e:\n",
    "        print(\"Error in training tokenizer:\", e)\n",
    "        print(f\"Training interrupted after {(time.time() - st) / 60:.2f} minutes\")\n",
    "\n",
    "    print(f\"Completed tokenizer training.\")\n",
    "\n",
    "    et = time.time()\n",
    "    print(f\"Training completed in {(et - st) / 60:.2f} minutes\")\n",
    "\n",
    "    # Setup transformer-compatible tokenizer after the training is completed\n",
    "    transformer_tokenizer = PreTrainedTokenizerFast(\n",
    "        tokenizer_object=tokenizer,\n",
    "        bos_token=\"<bos>\",\n",
    "        eos_token=\"<eos>\",\n",
    "        unk_token=\"<unk>\",\n",
    "        pad_token=\"<pad>\",\n",
    "        mask_token=\"<mask>\",\n",
    "        additional_special_tokens=[\"<user>\", \"<assistant>\"],\n",
    "    )\n",
    "\n",
    "    # Save the transformer-compatible tokenizer\n",
    "    transformer_tokenizer.save_pretrained(model_name)\n",
    "    print(f\"Saved tokenizer to {model_name}\")\n",
    "\n",
    "# Call the function to train the tokenizer\n",
    "train_tokenizer(data_path = data_path, vocab_size = vocab_size, model_name=save_path_blbpe)\n"
   ]
  },
  {
   "cell_type": "markdown",
   "metadata": {
    "id": "w0fmyo39cgDq"
   },
   "source": [
    "Testing the tokenizers on single sentence"
   ]
  },
  {
   "cell_type": "code",
   "execution_count": null,
   "metadata": {
    "id": "kqHctAwUcfb9"
   },
   "outputs": [],
   "source": [
    "from transformers import PreTrainedTokenizerFast\n",
    "\n",
    "tokenizer_bpe = PreTrainedTokenizerFast.from_pretrained('/Users/heerkubadia/Desktop/Sem - 5/Natural Language Processing//malayalam_tokenizer_v1')\n",
    "tokenizer_unigram = PreTrainedTokenizerFast.from_pretrained('/Users/heerkubadia/Desktop/Sem - 5/Natural Language Processing//malayalam_tokenizer_v2')\n",
    "tokenizer_moses = PreTrainedTokenizerFast.from_pretrained('/Users/heerkubadia/Desktop/Sem - 5/Natural Language Processing//malayalam_tokenizer_v3')\n",
    "tokenizer_wordpiece = PreTrainedTokenizerFast.from_pretrained('/Users/heerkubadia/Desktop/Sem - 5/Natural Language Processing//malayalam_tokenizer_v4')\n",
    "tokenizer_blbpe = PreTrainedTokenizerFast.from_pretrained('/Users/heerkubadia/Desktop/Sem - 5/Natural Language Processing/malayalam_tokenizer_v5')\n",
    "\n",
    "# Sample Malayalam text\n",
    "sample_text = \"ഹലോ, എനിക്ക് മലയാളം വളരെ ഇഷ്ടമാണ്!\"\n"
   ]
  },
  {
   "cell_type": "markdown",
   "metadata": {
    "id": "TqzMho9RdDqj"
   },
   "source": [
    "testing bpe"
   ]
  },
  {
   "cell_type": "code",
   "execution_count": null,
   "metadata": {
    "id": "iiDCDysuc3L8"
   },
   "outputs": [],
   "source": [
    "# Tokenize the sample text\n",
    "tokens = tokenizer_bpe.tokenize(sample_text)\n",
    "token_ids = tokenizer_bpe.convert_tokens_to_ids(tokens)\n",
    "\n",
    "# Print the tokens and their corresponding token IDs\n",
    "print(f\"Original Text: {sample_text}\")\n",
    "print(f\"Tokens: {tokens}\")\n",
    "print(f\"Token IDs: {token_ids}\")\n",
    "\n",
    "# Detokenize the token IDs back to text\n",
    "detokenized_text = tokenizer_bpe.decode(token_ids)\n",
    "print(f\"Detokenized Text : {detokenized_text}\")\n"
   ]
  },
  {
   "cell_type": "markdown",
   "metadata": {
    "id": "TqI8IndYdG2S"
   },
   "source": [
    "testing unigram"
   ]
  },
  {
   "cell_type": "code",
   "execution_count": null,
   "metadata": {
    "id": "TyZJHafCdbos"
   },
   "outputs": [],
   "source": [
    "# Tokenize the sample text\n",
    "tokens = tokenizer_unigram.tokenize(sample_text)\n",
    "token_ids = tokenizer_unigram.convert_tokens_to_ids(tokens)\n",
    "\n",
    "# Print the tokens and their corresponding token IDs\n",
    "print(f\"Original Text: {sample_text}\")\n",
    "print(f\"Tokens: {tokens}\")\n",
    "print(f\"Token IDs: {token_ids}\")\n",
    "\n",
    "# Detokenize the token IDs back to text\n",
    "detokenized_text = tokenizer_unigram.decode(token_ids)\n",
    "print(f\"Detokenized Text : {detokenized_text}\")"
   ]
  },
  {
   "cell_type": "markdown",
   "metadata": {
    "id": "IOL6UbxjdGv_"
   },
   "source": [
    "testing moses"
   ]
  },
  {
   "cell_type": "code",
   "execution_count": null,
   "metadata": {},
   "outputs": [],
   "source": [
    "# Tokenize the sample text\n",
    "tokens = tokenizer_moses.tokenize(sample_text)\n",
    "token_ids = tokenizer_moses.convert_tokens_to_ids(tokens)\n",
    "\n",
    "# Print the tokens and their corresponding token IDs\n",
    "print(f\"Original Text: {sample_text}\")\n",
    "print(f\"Tokens: {tokens}\")\n",
    "print(f\"Token IDs: {token_ids}\")\n",
    "\n",
    "# Detokenize the token IDs back to text\n",
    "detokenized_text = tokenizer_moses.decode(token_ids)\n",
    "print(f\"Detokenized Text : {detokenized_text}\")"
   ]
  },
  {
   "cell_type": "markdown",
   "metadata": {
    "id": "NFttokMCdGpI"
   },
   "source": [
    "testing wordpiece"
   ]
  },
  {
   "cell_type": "code",
   "execution_count": null,
   "metadata": {
    "id": "oN7uTgJVdxoV"
   },
   "outputs": [],
   "source": [
    "# Tokenize the sample text\n",
    "tokens = tokenizer_wordpiece.tokenize(sample_text)\n",
    "token_ids = tokenizer_wordpiece.convert_tokens_to_ids(tokens)\n",
    "\n",
    "# Print the tokens and their corresponding token IDs\n",
    "print(f\"Original Text: {sample_text}\")\n",
    "print(f\"Tokens: {tokens}\")\n",
    "print(f\"Token IDs: {token_ids}\")\n",
    "\n",
    "# Detokenize the token IDs back to text\n",
    "detokenized_text = tokenizer_wordpiece.decode(token_ids)\n",
    "print(f\"Detokenized Text : {detokenized_text}\")"
   ]
  },
  {
   "cell_type": "markdown",
   "metadata": {
    "id": "KOJ37_qJdGfQ"
   },
   "source": [
    "testing blbpe"
   ]
  },
  {
   "cell_type": "code",
   "execution_count": null,
   "metadata": {
    "id": "2vjAmaKNd1A2"
   },
   "outputs": [],
   "source": [
    "# Tokenize the sample text\n",
    "\n",
    "tokens = tokenizer_blbpe.tokenize(sample_text)\n",
    "token_ids = tokenizer_blbpe.convert_tokens_to_ids(tokens)\n",
    "\n",
    "# Print the tokens and their corresponding token IDs\n",
    "print(f\"Original Text: {sample_text}\")\n",
    "print(f\"Tokens: {tokens}\")\n",
    "print(f\"Token IDs: {token_ids}\")\n",
    "\n",
    "# Detokenize the token IDs back to text\n",
    "detokenized_text = tokenizer_blbpe.decode(token_ids)\n",
    "print(f\"Detokenized Text : {detokenized_text}\")"
   ]
  },
  {
   "cell_type": "markdown",
   "metadata": {
    "id": "oZAIja0OPlTx"
   },
   "source": [
    "## Fertility Score"
   ]
  },
  {
   "cell_type": "code",
   "execution_count": null,
   "metadata": {},
   "outputs": [],
   "source": [
    "from tokenizers import Tokenizer\n",
    "import numpy as np\n"
   ]
  },
  {
   "cell_type": "code",
   "execution_count": null,
   "metadata": {
    "id": "5qJedkS9PlTy"
   },
   "outputs": [],
   "source": [
    "tokenizer_path_bpe = \"/Users/heerkubadia/Desktop/Sem - 5/Natural Language Processing/malayalam_tokenizer_v1/tokenizer.json\"\n",
    "tokenizer_path_unigram = \"/Users/heerkubadia/Desktop/Sem - 5/Natural Language Processing/malayalam_tokenizer_v2/tokenizer.json\"\n",
    "tokenizer_path_moses = \"/Users/heerkubadia/Desktop/Sem - 5/Natural Language Processing//malayalam_tokenizer_v3/tokenizer.json\"\n",
    "tokenizer_path_wordpiece = \"/Users/heerkubadia/Desktop/Sem - 5/Natural Language Processing/malayalam_tokenizer_v4/tokenizer.json\"\n",
    "tokenizer_path_blbpe = \"/Users/heerkubadia/Desktop/Sem - 5/Natural Language Processing/malayalam_tokenizer_v5/tokenizer.json\"\n",
    "\n",
    "data_path = \"/Users/heerkubadia/Desktop/Sem - 5/Natural Language Processing/tokenizer_150.csv\"\n",
    "column_name = 'Text'"
   ]
  },
  {
   "cell_type": "code",
   "execution_count": null,
   "metadata": {
    "id": "1b7rbeL9PlTy"
   },
   "outputs": [],
   "source": [
    "tokenizer_bpe = Tokenizer.from_file(tokenizer_path_bpe)\n",
    "tokenizer_unigram = Tokenizer.from_file(tokenizer_path_unigram)\n",
    "tokenizer_moses = Tokenizer.from_file(tokenizer_path_moses)\n",
    "tokenizer_wordpiece = Tokenizer.from_file(tokenizer_path_wordpiece)\n",
    "tokenizer_blbpe = Tokenizer.from_file(tokenizer_path_blbpe)\n"
   ]
  },
  {
   "cell_type": "code",
   "execution_count": null,
   "metadata": {
    "id": "uwNX6sWQPlTy"
   },
   "outputs": [],
   "source": [
    "pip install git+https://github.com/anoopkunchukuttan/indic_nlp_library.git\n"
   ]
  },
  {
   "cell_type": "code",
   "execution_count": null,
   "metadata": {
    "id": "EF33C4uiPlTz"
   },
   "outputs": [],
   "source": [
    "from indicnlp.tokenize import indic_tokenize"
   ]
  },
  {
   "cell_type": "code",
   "execution_count": null,
   "metadata": {
    "id": "m29tZQ5nPlTz",
    "outputId": "2f1b545e-bd4c-499a-ee72-a8193a0e5c9f"
   },
   "outputs": [],
   "source": [
    "def calculate_fertility_score(data_path, tokenizer):\n",
    "    # Read the data (assuming it's a CSV file)\n",
    "    df = pd.read_csv(data_path)\n",
    "    text_column = df.iloc[:, 2]  # Assuming the text is in the 3rd column\n",
    "\n",
    "    # Get word count in documents (using basic word tokenization for counting words)\n",
    "    df_word_count = []\n",
    "    for sentence in text_column:\n",
    "        tokens = indic_tokenize.trivial_tokenize(sentence)  # Tokenizing using indicnlp\n",
    "        df_word_count.append(len(tokens)) # Simple split for word count\n",
    "    np_word_count = np.array(df_word_count)\n",
    "\n",
    "    # Tokenize the documents using your trained tokenizer\n",
    "    df_token_count = []\n",
    "    for sentence in text_column:\n",
    "        tokenized_output = tokenizer.encode(sentence)  # Tokenize the sentence\n",
    "        df_token_count.append(len(tokenized_output.tokens))  # Count the tokens\n",
    "    np_token_count = np.array(df_token_count)\n",
    "\n",
    "    # Calculate the fertility score\n",
    "    fertility_score = np.mean(np_token_count / np_word_count)\n",
    "\n",
    "    # Save the fertility score to a file\n",
    "    with open(\"fertility_score.txt\", \"w\") as file:\n",
    "        file.write(str(fertility_score))\n",
    "\n",
    "    print(f\"Fertility score: {fertility_score}\")\n",
    "    return fertility_score\n"
   ]
  },
  {
   "cell_type": "markdown",
   "metadata": {
    "id": "Mv_YvTORX2RL"
   },
   "source": [
    "fertility score of bpe"
   ]
  },
  {
   "cell_type": "code",
   "execution_count": null,
   "metadata": {
    "id": "571DQZEoYHyo"
   },
   "outputs": [],
   "source": [
    "\n",
    "calculate_fertility_score(data_path= data_path, tokenizer=tokenizer_bpe)"
   ]
  },
  {
   "cell_type": "markdown",
   "metadata": {
    "id": "QRGjwU7NX2KH"
   },
   "source": [
    "fertility score of unigram"
   ]
  },
  {
   "cell_type": "code",
   "execution_count": null,
   "metadata": {
    "id": "GbqI_WCYYITi"
   },
   "outputs": [],
   "source": [
    "\n",
    "calculate_fertility_score(data_path= data_path, tokenizer=tokenizer_unigram)"
   ]
  },
  {
   "cell_type": "markdown",
   "metadata": {
    "id": "CspTbqxCX2Ay"
   },
   "source": [
    "fertility score of moses"
   ]
  },
  {
   "cell_type": "code",
   "execution_count": null,
   "metadata": {
    "id": "5OBmeAyrYI8Q"
   },
   "outputs": [],
   "source": [
    "import numpy as np\n",
    "def calculate_fertility_score(data_path, tokenizer):\n",
    "    # Read the data (assuming it's a CSV file)\n",
    "    df = pd.read_csv(data_path)\n",
    "    text_column = df.iloc[:, 2]  # Assuming the text is in the 3rd column\n",
    "\n",
    "    # Get word count in documents (using basic word tokenization for counting words)\n",
    "    df_word_count = []\n",
    "    for sentence in text_column:\n",
    "        tokens = indic_tokenize.trivial_tokenize(sentence)  # Tokenizing using indicnlp\n",
    "        df_word_count.append(len(tokens)) # Simple split for word count\n",
    "    np_word_count = np.array(df_word_count)\n",
    "\n",
    "    # Tokenize the documents using your trained tokenizer\n",
    "    df_token_count = []\n",
    "    for sentence in text_column:\n",
    "        tokenized_output = tokenizer.encode(sentence)  # Tokenize the sentence\n",
    "        df_token_count.append(len(tokenized_output))  # Count the number of tokens directly\n",
    "\n",
    "    np_token_count = np.array(df_token_count)\n",
    "\n",
    "    # Calculate the fertility score\n",
    "    fertility_score = np.mean(np_token_count / np_word_count)\n",
    "\n",
    "    # Save the fertility score to a file\n",
    "    with open(\"fertility_score.txt\", \"w\") as file:\n",
    "        file.write(str(fertility_score))\n",
    "\n",
    "    print(f\"Fertility score: {fertility_score}\")\n",
    "    return fertility_score\n",
    "\n",
    "# Call the function with the path to your data\n",
    "calculate_fertility_score(data_path=data_path, tokenizer=tokenizer_moses)"
   ]
  },
  {
   "cell_type": "markdown",
   "metadata": {
    "id": "qUK7q3XXX16C"
   },
   "source": [
    "fertility score of wordpiece"
   ]
  },
  {
   "cell_type": "code",
   "execution_count": null,
   "metadata": {
    "id": "zpg2U3IrYJ03"
   },
   "outputs": [],
   "source": [
    "\n",
    "calculate_fertility_score(data_path= data_path, tokenizer=tokenizer_wordpiece)"
   ]
  },
  {
   "cell_type": "markdown",
   "metadata": {
    "id": "5_bElbkeX1hu"
   },
   "source": [
    "fertility score of blbpe"
   ]
  },
  {
   "cell_type": "code",
   "execution_count": null,
   "metadata": {
    "id": "T9pmBroAYKh-"
   },
   "outputs": [],
   "source": [
    "\n",
    "calculate_fertility_score(data_path= data_path, tokenizer=tokenizer_blbpe)"
   ]
  },
  {
   "cell_type": "markdown",
   "metadata": {
    "id": "F_sptwUQbaXM"
   },
   "source": [
    "## Matrix representing the fertility scores of various tokenizers on different dataset sizes"
   ]
  },
  {
   "cell_type": "code",
   "execution_count": 4,
   "metadata": {
    "id": "CeVqIW75aRX0"
   },
   "outputs": [
    {
     "data": {
      "image/png": "[encoded data removed]",
      "text/plain": [
       "<Figure size 1000x600 with 2 Axes>"
      ]
     },
     "metadata": {},
     "output_type": "display_data"
    }
   ],
   "source": [
    "import pandas as pd\n",
    "import seaborn as sns\n",
    "import matplotlib.pyplot as plt\n",
    "\n",
    "# Example dataset of different tokenizers, dataset sizes, and corresponding fertility scores\n",
    "data = {\n",
    "    'Sentence Piece BPE': [2.5, 2.55,2.81],\n",
    "    'Unigram': [3.3, 3.36,3.52],\n",
    "    'Moses': [2.41,2.71,2.71],\n",
    "    'Wordpiece': [2.2, 2.26,2.28],\n",
    "    'Byte Level BPE' :[7.5, 7.49,7.49]\n",
    "}\n",
    "\n",
    "# Corresponding dataset sizes (could be number of sentences or text samples)\n",
    "dataset_sizes = [150, 300, 500]\n",
    "\n",
    "# Create a DataFrame from the data\n",
    "df = pd.DataFrame(data, index=dataset_sizes)\n",
    "\n",
    "# Plot the heatmap using seaborn\n",
    "plt.figure(figsize=(10, 6))\n",
    "sns.heatmap(df, annot=True, cmap=\"YlGnBu\", fmt=\".2f\", cbar=True, linewidths=1)\n",
    "\n",
    "# Add labels and title\n",
    "plt.title(\"Fertility Scores for Different Tokenizers and Dataset Sizes\")\n",
    "plt.xlabel(\"Tokenizers\")\n",
    "plt.ylabel(\"Dataset Size in MBs\")\n",
    "\n",
    "# Show the plot\n",
    "plt.show()\n"
   ]
  }
 ],
 "metadata": {
  "accelerator": "GPU",
  "colab": {
   "gpuType": "T4",
   "provenance": []
  },
  "kernelspec": {
   "display_name": "Python 3",
   "name": "python3"
  },
  "language_info": {
   "codemirror_mode": {
    "name": "ipython",
    "version": 3
   },
   "file_extension": ".py",
   "mimetype": "text/x-python",
   "name": "python",
   "nbconvert_exporter": "python",
   "pygments_lexer": "ipython3",
   "version": "3.9.6"
  }
 },
 "nbformat": 4,
 "nbformat_minor": 0
}
