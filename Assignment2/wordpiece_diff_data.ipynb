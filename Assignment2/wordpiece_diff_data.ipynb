{
 "cells": [
  {
   "cell_type": "markdown",
   "metadata": {},
   "source": [
    "We trained five different tokenizers on various dataset sizes with vocab size = 16000 and found wordpiece to work the best because of it's tokenizing algorithm, fertility scores, and other factors for language malayalam. So now we train wordpiece tokenizer on 5 different datasets (non overlapping) which is around 500-600 MBs with vocab size = 32768 and again find the best among those."
   ]
  },
  {
   "cell_type": "markdown",
   "metadata": {},
   "source": [
    "## Splitting the scraped dataset into 5 parts"
   ]
  },
  {
   "cell_type": "code",
   "execution_count": null,
   "metadata": {},
   "outputs": [],
   "source": [
    "import os\n",
    "import shutil\n",
    "\n",
    "# Define the parent folder path\n",
    "parent_folder ='/Users/heerkubadia/Desktop/Sem - 5/Natural Language Processing/FINAL_PROCESSED'\n",
    "\n",
    "# Function to get all text files and their sizes\n",
    "def get_text_files_and_sizes(parent_folder):\n",
    "    files = []\n",
    "    for root, dirs, files_in_dir in os.walk(parent_folder):\n",
    "        for file in files_in_dir:\n",
    "            if file.endswith('.txt'):  # Only consider text files\n",
    "                file_path = os.path.join(root, file)\n",
    "                size = os.path.getsize(file_path)\n",
    "                files.append((file_path, size, root.split(os.sep)[-1]))  # (file path, size, subfolder name)\n",
    "    return files\n",
    "\n",
    "# Function to divide files into 5 parts using greedy approach\n",
    "def divide_into_parts(files, num_parts=5):\n",
    "    # Sort files by size in descending order (largest file first)\n",
    "    files.sort(key=lambda x: x[1], reverse=True)\n",
    "    \n",
    "    # Initialize parts and part sizes\n",
    "    parts = [[] for _ in range(num_parts)]\n",
    "    part_sizes = [0] * num_parts\n",
    "\n",
    "    # Greedily assign files to the part with the smallest current size\n",
    "    for file in files:\n",
    "        # Find the part with the minimum size\n",
    "        min_part_index = part_sizes.index(min(part_sizes))\n",
    "        parts[min_part_index].append(file)\n",
    "        part_sizes[min_part_index] += file[1]\n",
    "\n",
    "    return parts\n",
    "\n",
    "# Function to move files and rename them to 'subfolder_name_file_name'\n",
    "def move_and_rename_files(parts, output_dir):\n",
    "    for i, part in enumerate(parts):\n",
    "        part_folder = os.path.join(output_dir, f'part_{i+1}')\n",
    "        os.makedirs(part_folder, exist_ok=True)\n",
    "        for file in part:\n",
    "            original_path = file[0]\n",
    "            new_name = f\"{file[2]}_{os.path.basename(original_path)}\"\n",
    "            new_path = os.path.join(part_folder, new_name)\n",
    "            shutil.copy(original_path, new_path)\n",
    "\n",
    "# Main function\n",
    "def main():\n",
    "    # Step 1: Get all files and their sizes\n",
    "    files = get_text_files_and_sizes(parent_folder)\n",
    "\n",
    "    # Step 2: Divide files into 5 parts using the greedy approach\n",
    "    parts = divide_into_parts(files)\n",
    "\n",
    "    # Step 3: Move and rename files into parts\n",
    "    output_dir = '/Users/heerkubadia/Desktop/Sem - 5/Natural Language Processing/WORDPIECE'\n",
    "    move_and_rename_files(parts, output_dir)\n",
    "\n",
    "    print(f\"Files successfully divided into {output_dir}\")\n",
    "\n",
    "if __name__ == '__main__':\n",
    "    main()\n"
   ]
  },
  {
   "cell_type": "code",
   "execution_count": null,
   "metadata": {},
   "outputs": [],
   "source": [
    "import os\n",
    "\n",
    "# Define the input file path and output directory\n",
    "input_file = '/Users/heerkubadia/Desktop/Sem - 5/Natural Language Processing/WORDPIECE/part_1/samanantar_samanantar.txt'\n",
    "output_dir = '/Users/heerkubadia/Desktop/Sem - 5/Natural Language Processing/WORDPIECE/part_1'\n",
    "\n",
    "# Function to split the file into 10 parts\n",
    "def split_file(input_file, output_dir, num_parts=10):\n",
    "    # Read the content of the file\n",
    "    with open(input_file, 'r') as file:\n",
    "        content = file.read()\n",
    "\n",
    "    # Calculate the size of each part (approximately)\n",
    "    part_size = len(content) // num_parts\n",
    "\n",
    "    # Create the output directory if it doesn't exist\n",
    "    os.makedirs(output_dir, exist_ok=True)\n",
    "\n",
    "    # Split the content into parts and save them to new files\n",
    "    for i in range(num_parts):\n",
    "        # Calculate the start and end indices for each part\n",
    "        start_index = i * part_size\n",
    "        # Ensure the last part captures the rest of the content\n",
    "        end_index = (i + 1) * part_size if i < num_parts - 1 else len(content)\n",
    "        \n",
    "        # Extract the part of the content\n",
    "        part_content = content[start_index:end_index]\n",
    "\n",
    "        # Define the name of the part file\n",
    "        part_file = os.path.join(output_dir, f'part_{i+1}.txt')\n",
    "\n",
    "        # Write the part to a new file\n",
    "        with open(part_file, 'w') as part:\n",
    "            part.write(part_content)\n",
    "        \n",
    "    print(f\"File has been split into {num_parts} parts at {output_dir}\")\n",
    "\n",
    "# Main function to call the split_file function\n",
    "def main():\n",
    "    split_file(input_file, output_dir)\n",
    "\n",
    "if __name__ == '__main__':\n",
    "    main()\n"
   ]
  },
  {
   "cell_type": "code",
   "execution_count": null,
   "metadata": {},
   "outputs": [],
   "source": [
    "import os\n",
    "import csv\n",
    "\n",
    "# Define the parent folder path containing subfolders with text files\n",
    "parent_folder = '/Users/heerkubadia/Desktop/Sem - 5/Natural Language Processing/WORDPIECE'\n",
    "\n",
    "# Function to create a CSV for each folder\n",
    "def create_csv_for_folders(parent_folder):\n",
    "    # Traverse through each subfolder in the parent folder\n",
    "    for root, dirs, files in os.walk(parent_folder):\n",
    "        # Filter text files in the current directory (root)\n",
    "        text_files = [file for file in files if file.endswith('.txt')]\n",
    "        \n",
    "        if text_files:  # Proceed only if there are text files in the folder\n",
    "            # Define CSV file path (name it after the current subfolder)\n",
    "            folder_name = os.path.basename(root)\n",
    "            csv_path = os.path.join(root, f\"{folder_name}.csv\")\n",
    "            \n",
    "            # Open the CSV file for writing\n",
    "            with open(csv_path, mode='w', newline='', encoding='utf-8') as csv_file:\n",
    "                writer = csv.writer(csv_file)\n",
    "                \n",
    "                # Write the header row\n",
    "                writer.writerow(['Serial Number', 'Source Name', 'Text'])\n",
    "                \n",
    "                # Write data from each text file into the CSV\n",
    "                for serial_number, text_file in enumerate(text_files, start=1):\n",
    "                    text_file_path = os.path.join(root, text_file)\n",
    "                    \n",
    "                    # Read the text content of the file\n",
    "                    with open(text_file_path, 'r', encoding='utf-8') as file:\n",
    "                        text_content = file.read()\n",
    "                    \n",
    "                    # Write a row in the CSV file\n",
    "                    writer.writerow([serial_number, text_file, text_content])\n",
    "            \n",
    "            print(f\"CSV created for folder: {root} -> {csv_path}\")\n",
    "\n",
    "# Main function\n",
    "def main():\n",
    "    create_csv_for_folders(parent_folder)\n",
    "\n",
    "if __name__ == '__main__':\n",
    "    main()\n"
   ]
  },
  {
   "cell_type": "markdown",
   "metadata": {},
   "source": [
    "## Training wordpiece on the 5 datasets"
   ]
  },
  {
   "cell_type": "code",
   "execution_count": null,
   "metadata": {},
   "outputs": [],
   "source": [
    "vocab_size = 32768  # Vocabulary size for tokenizer\n",
    "\n",
    "data_path_1 = \"/Users/heerkubadia/Desktop/Sem - 5/Natural Language Processing/WORDPIECE_CSV/wp_1.csv\" \n",
    "data_path_2 = \"/Users/heerkubadia/Desktop/Sem - 5/Natural Language Processing/WORDPIECE_CSV/wp_2.csv\" \n",
    "data_path_3 = \"/Users/heerkubadia/Desktop/Sem - 5/Natural Language Processing/WORDPIECE_CSV/wp_3.csv\" \n",
    "data_path_4 = \"/Users/heerkubadia/Desktop/Sem - 5/Natural Language Processing/WORDPIECE_CSV/wp_4.csv\" \n",
    "data_path_5 = \"/Users/heerkubadia/Desktop/Sem - 5/Natural Language Processing/WORDPIECE_CSV/wp_5.csv\"  \n",
    "\n",
    "save_path_1 = \"/Users/heerkubadia/Desktop/Sem - 5/Natural Language Processing/WORDPIECE_CSV/malayalam_wp_v1\"\n",
    "save_path_2 = \"/Users/heerkubadia/Desktop/Sem - 5/Natural Language Processing/WORDPIECE_CSV/malayalam_wp_v2\"\n",
    "save_path_3 = \"/Users/heerkubadia/Desktop/Sem - 5/Natural Language Processing/WORDPIECE_CSV/malayalam_wp_v3\"\n",
    "save_path_4 = \"/Users/heerkubadia/Desktop/Sem - 5/Natural Language Processing/WORDPIECE_CSV/malayalam_wp_v4\"\n",
    "save_path_5 = \"/Users/heerkubadia/Desktop/Sem - 5/Natural Language Processing/WORDPIECE_CSV/malayalam_wp_v5\""
   ]
  },
  {
   "cell_type": "code",
   "execution_count": null,
   "metadata": {},
   "outputs": [],
   "source": [
    "import os\n",
    "import time\n",
    "import pandas as pd\n",
    "from tokenizers import BertWordPieceTokenizer\n",
    "from transformers import PreTrainedTokenizerFast\n",
    "\n",
    "def train_wordpiece_tokenizer(data_path, vocab_size, model_name):\n",
    "    st = time.time()\n",
    "    print(f\"Vocabulary size: {vocab_size}\")\n",
    "    print(f\"Model save path: {model_name}\")\n",
    "\n",
    "    tokenizer = BertWordPieceTokenizer(\n",
    "        clean_text=True,\n",
    "        handle_chinese_chars=False,\n",
    "        strip_accents=False,\n",
    "        lowercase=True,\n",
    "    )\n",
    "\n",
    "    # Reading the CSV file\n",
    "    df = pd.read_csv(data_path)\n",
    "    print(f\"No. of files: {len(df)}\")\n",
    "    text_column = df.iloc[:, 2]  # Accessing the third column which has the text\n",
    "    special_tokens = [\"[PAD]\", \"[CLS]\", \"[SEP]\", \"[MASK]\", \"[UNK]\", \"[BOS]\", \"[EOS]\", \"[USER]\", \"[ASSISTANT]\"]\n",
    "\n",
    "    # Preprocess the text\n",
    "    text_column = text_column.str.replace(r'\\d+', '', regex=True)\n",
    "    text_column = text_column.apply(lambda x: f\"{special_tokens[5]} {x} {special_tokens[6]}\")  # Adding <bos> and <eos>\n",
    "\n",
    "    try:\n",
    "        tokenizer.train_from_iterator(\n",
    "            text_column,\n",
    "            vocab_size=vocab_size,\n",
    "            min_frequency=5,\n",
    "            special_tokens=special_tokens,\n",
    "            show_progress=True,\n",
    "        )\n",
    "    except Exception as e:\n",
    "        print(\"Error in training tokenizer:\", e)\n",
    "        print(f\"Training interrupted after {(time.time() - st) / 60:.2f} minutes\")\n",
    "\n",
    "    print(\"Completed tokenizer training.\")\n",
    "\n",
    "    # Create the directory if it doesn't exist\n",
    "    os.makedirs(model_name, exist_ok=True)\n",
    "\n",
    "    # Save the tokenizer as a fast tokenizer\n",
    "    # Convert BertWordPieceTokenizer to PreTrainedTokenizerFast\n",
    "    fast_tokenizer = PreTrainedTokenizerFast(\n",
    "        tokenizer_object=tokenizer,\n",
    "        unk_token=\"[UNK]\",\n",
    "        pad_token=\"[PAD]\",\n",
    "        cls_token=\"[CLS]\",\n",
    "        sep_token=\"[SEP]\",\n",
    "        mask_token=\"[MASK]\",\n",
    "        bos_token=\"[BOS]\",\n",
    "        eos_token=\"[EOS]\"\n",
    "    )\n",
    "\n",
    "    # Save the tokenizer\n",
    "    fast_tokenizer.save_pretrained(model_name)\n",
    "    print(f\"Saved tokenizer to {model_name}\")\n",
    "\n",
    "    et = time.time()\n",
    "    print(f\"Training completed in {(et - st) / 60:.2f} minutes\")\n"
   ]
  },
  {
   "cell_type": "code",
   "execution_count": null,
   "metadata": {},
   "outputs": [],
   "source": [
    "train_wordpiece_tokenizer(data_path= data_path_1, vocab_size= vocab_size, model_name=save_path_1)"
   ]
  },
  {
   "cell_type": "code",
   "execution_count": null,
   "metadata": {},
   "outputs": [],
   "source": [
    "train_wordpiece_tokenizer(data_path= data_path_2, vocab_size= vocab_size, model_name=save_path_2)"
   ]
  },
  {
   "cell_type": "code",
   "execution_count": null,
   "metadata": {},
   "outputs": [],
   "source": [
    "train_wordpiece_tokenizer(data_path= data_path_3, vocab_size= vocab_size, model_name=save_path_3)"
   ]
  },
  {
   "cell_type": "code",
   "execution_count": null,
   "metadata": {},
   "outputs": [],
   "source": [
    "train_wordpiece_tokenizer(data_path= data_path_3, vocab_size= vocab_size, model_name=save_path_3)"
   ]
  },
  {
   "cell_type": "code",
   "execution_count": null,
   "metadata": {},
   "outputs": [],
   "source": [
    "train_wordpiece_tokenizer(data_path= data_path_4, vocab_size= vocab_size, model_name=save_path_4)"
   ]
  },
  {
   "cell_type": "code",
   "execution_count": null,
   "metadata": {},
   "outputs": [],
   "source": [
    "train_wordpiece_tokenizer(data_path= data_path_5, vocab_size= vocab_size, model_name=save_path_5)"
   ]
  },
  {
   "cell_type": "markdown",
   "metadata": {},
   "source": [
    "## Fertility Scores"
   ]
  },
  {
   "cell_type": "code",
   "execution_count": null,
   "metadata": {},
   "outputs": [],
   "source": [
    "from tokenizers import Tokenizer\n",
    "import numpy as np"
   ]
  },
  {
   "cell_type": "code",
   "execution_count": null,
   "metadata": {},
   "outputs": [],
   "source": [
    "tokenizer_path_1 = \"/Users/heerkubadia/Desktop/Sem - 5/Natural Language Processing/WORDPIECE_CSV/malayalam_wp_v1/tokenizer.json\"\n",
    "tokenizer_path_2 = \"/Users/heerkubadia/Desktop/Sem - 5/Natural Language Processing/WORDPIECE_CSV/malayalam_wp_v2/tokenizer.json\"\n",
    "tokenizer_path_3 = \"/Users/heerkubadia/Desktop/Sem - 5/Natural Language Processing/WORDPIECE_CSV/malayalam_wp_v3/tokenizer.json\"\n",
    "tokenizer_path_4 = \"/Users/heerkubadia/Desktop/Sem - 5/Natural Language Processing/WORDPIECE_CSV/malayalam_wp_v4/tokenizer.json\"\n",
    "tokenizer_path_5 = \"/Users/heerkubadia/Desktop/Sem - 5/Natural Language Processing/WORDPIECE_CSV/malayalam_wp_v5/tokenizer.json\"\n",
    "\n",
    "data_path_1 = \"/Users/heerkubadia/Desktop/Sem - 5/Natural Language Processing/WORDPIECE_CSV/wp_1.csv\" \n",
    "data_path_2 = \"/Users/heerkubadia/Desktop/Sem - 5/Natural Language Processing/WORDPIECE_CSV/wp_2.csv\" \n",
    "data_path_3 = \"/Users/heerkubadia/Desktop/Sem - 5/Natural Language Processing/WORDPIECE_CSV/wp_3.csv\" \n",
    "data_path_4 = \"/Users/heerkubadia/Desktop/Sem - 5/Natural Language Processing/WORDPIECE_CSV/wp_4.csv\" \n",
    "data_path_5 = \"/Users/heerkubadia/Desktop/Sem - 5/Natural Language Processing/WORDPIECE_CSV/wp_5.csv\" \n",
    "\n",
    "column_name = 'Text'"
   ]
  },
  {
   "cell_type": "code",
   "execution_count": null,
   "metadata": {},
   "outputs": [],
   "source": [
    "tokenizer_1 = Tokenizer.from_file(tokenizer_path_1)\n",
    "tokenizer_2 = Tokenizer.from_file(tokenizer_path_2)\n",
    "tokenizer_3 = Tokenizer.from_file(tokenizer_path_3)\n",
    "tokenizer_4 = Tokenizer.from_file(tokenizer_path_4)\n",
    "tokenizer_5 = Tokenizer.from_file(tokenizer_path_5)\n"
   ]
  },
  {
   "cell_type": "code",
   "execution_count": null,
   "metadata": {},
   "outputs": [],
   "source": [
    "!pip install git+https://github.com/anoopkunchukuttan/indic_nlp_library.git"
   ]
  },
  {
   "cell_type": "code",
   "execution_count": null,
   "metadata": {},
   "outputs": [],
   "source": [
    "from indicnlp.tokenize import indic_tokenize"
   ]
  },
  {
   "cell_type": "code",
   "execution_count": null,
   "metadata": {},
   "outputs": [],
   "source": [
    "def calculate_fertility_score(data_path, tokenizer):\n",
    "    # Read the data (assuming it's a CSV file)\n",
    "    df = pd.read_csv(data_path)\n",
    "    text_column = df.iloc[:, 2]  # Assuming the text is in the 3rd column\n",
    "\n",
    "    # Get word count in documents (using basic word tokenization for counting words)\n",
    "    df_word_count = []\n",
    "    for sentence in text_column:\n",
    "        if isinstance(sentence, float):\n",
    "            sentence = \"\"  # Replace with an empty string, or you can choose to skip it\n",
    "        tokens = indic_tokenize.trivial_tokenize(sentence)  # Tokenizing using indicnlp\n",
    "        df_word_count.append(len(tokens)) # Simple split for word count\n",
    "    np_word_count = np.array(df_word_count)\n",
    "\n",
    "    # Tokenize the documents using your trained tokenizer\n",
    "    df_token_count = []\n",
    "    for sentence in text_column:\n",
    "        if not isinstance(sentence, str):\n",
    "            sentence = \"\" \n",
    "        tokenized_output = tokenizer.encode(sentence)  # Tokenize the sentence\n",
    "        df_token_count.append(len(tokenized_output.tokens))  # Count the tokens\n",
    "    np_token_count = np.array(df_token_count)\n",
    "\n",
    "    # Calculate the fertility score\n",
    "    fertility_score = np.mean(np_token_count / np_word_count)\n",
    "\n",
    "    print(f\"Fertility score: {fertility_score}\")\n",
    "    return fertility_score\n"
   ]
  },
  {
   "cell_type": "code",
   "execution_count": null,
   "metadata": {},
   "outputs": [],
   "source": [
    "calculate_fertility_score(data_path= data_path_1, tokenizer=tokenizer_1)"
   ]
  },
  {
   "cell_type": "code",
   "execution_count": null,
   "metadata": {},
   "outputs": [],
   "source": [
    "calculate_fertility_score(data_path= data_path_2, tokenizer=tokenizer_2)"
   ]
  },
  {
   "cell_type": "code",
   "execution_count": null,
   "metadata": {},
   "outputs": [],
   "source": [
    "calculate_fertility_score(data_path= data_path_3, tokenizer=tokenizer_3)"
   ]
  },
  {
   "cell_type": "code",
   "execution_count": null,
   "metadata": {},
   "outputs": [],
   "source": [
    "calculate_fertility_score(data_path= data_path_4, tokenizer=tokenizer_4)"
   ]
  },
  {
   "cell_type": "code",
   "execution_count": null,
   "metadata": {},
   "outputs": [],
   "source": [
    "calculate_fertility_score(data_path= data_path_5, tokenizer=tokenizer_5)"
   ]
  },
  {
   "cell_type": "markdown",
   "metadata": {},
   "source": [
    "## Graph of Fertility scores vs Tokenizers"
   ]
  },
  {
   "cell_type": "code",
   "execution_count": 36,
   "metadata": {},
   "outputs": [
    {
     "data": {
      "image/png": "[encoded data removed]",
      "text/plain": [
       "<Figure size 800x400 with 2 Axes>"
      ]
     },
     "metadata": {},
     "output_type": "display_data"
    }
   ],
   "source": [
    "import pandas as pd\n",
    "import seaborn as sns\n",
    "import matplotlib.pyplot as plt\n",
    "\n",
    "# Sample data for demonstration\n",
    "data = {\n",
    "    'Tokenizer': ['Tokenizer 1', 'Tokenizer 2', 'Tokenizer 3', 'Tokenizer 4', 'Tokenizer 5'],\n",
    "    'Fertility Score': [1.477, 1.442, 1.443, 1.449,1.469],  # Example fertility scores\n",
    "    'Dataset Size (MBs)': [620.57,585.32,585.02,583.62,583.04]    # Example dataset sizes\n",
    "}\n",
    "\n",
    "# Create a DataFrame\n",
    "df = pd.DataFrame(data)\n",
    "\n",
    "# Set up the DataFrame with Tokenizer as the index for easier heatmap labeling\n",
    "df_heatmap = df.set_index('Tokenizer')\n",
    "\n",
    "# Plot a heatmap\n",
    "plt.figure(figsize=(8, 4))\n",
    "sns.heatmap(df_heatmap, annot=True, cmap=\"YlGnBu\", fmt=\".2f\", cbar=True)\n",
    "plt.title(\"Matrix of Fertility Scores and Dataset Sizes\")\n",
    "plt.show()\n"
   ]
  },
  {
   "cell_type": "markdown",
   "metadata": {},
   "source": [
    "Based on the graph above we choose tokenizer 2 as its fertility score is the least (1.442)"
   ]
  }
 ],
 "metadata": {
  "kernelspec": {
   "display_name": "Python 3",
   "language": "python",
   "name": "python3"
  },
  "language_info": {
   "codemirror_mode": {
    "name": "ipython",
    "version": 3
   },
   "file_extension": ".py",
   "mimetype": "text/x-python",
   "name": "python",
   "nbconvert_exporter": "python",
   "pygments_lexer": "ipython3",
   "version": "3.9.6"
  }
 },
 "nbformat": 4,
 "nbformat_minor": 2
}
